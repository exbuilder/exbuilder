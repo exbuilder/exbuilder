{
 "cells": [
  {
   "cell_type": "markdown",
   "id": "herbal-strength",
   "metadata": {},
   "source": [
    "# sample-jupyter-notebook\n",
    "\n",
    "## load libraries"
   ]
  },
  {
   "cell_type": "code",
   "execution_count": 1,
   "id": "warming-gasoline",
   "metadata": {},
   "outputs": [
    {
     "name": "stderr",
     "output_type": "stream",
     "text": [
      "\n",
      "Attaching package: ‘tidyjson’\n",
      "\n",
      "\n",
      "The following object is masked from ‘package:stats’:\n",
      "\n",
      "    filter\n",
      "\n",
      "\n"
     ]
    }
   ],
   "source": [
    "#load the tidyverse, but be quiet about it\n",
    "options(tidyverse.quiet = TRUE) \n",
    "library(tidyverse)\n",
    "\n",
    "#load the libraries for working with the database\n",
    "library(DBI)\n",
    "library(RPostgreSQL)\n",
    "library(getPass)\n",
    "library(tidyjson) "
   ]
  },
  {
   "cell_type": "markdown",
   "id": "dramatic-intelligence",
   "metadata": {},
   "source": [
    "## connect to database"
   ]
  },
  {
   "cell_type": "code",
   "execution_count": 2,
   "id": "approved-abuse",
   "metadata": {},
   "outputs": [],
   "source": [
    "#set the db driver to postgres, because that is what the exbuilder's database is\n",
    "pgdrv <- dbDriver(drvName = \"PostgreSQL\")\n",
    "\n",
    "# connect to our database\n",
    "db <-DBI::dbConnect(pgdrv,\n",
    "                    dbname=\"exbuilder\",\n",
    "                    host=\"postgres\", \n",
    "                    port=5432,\n",
    "                    user = 'exbuilder',\n",
    "                    password = \"password\") # default is password\n",
    "\n",
    "# replace password = \"password\" with password = getPass(\"Enter password: \") if you want to \n",
    "# instead enter a password. "
   ]
  },
  {
   "cell_type": "markdown",
   "id": "activated-arthur",
   "metadata": {},
   "source": [
    "## query the database\n",
    "Once connected you can pass sql queries to the database. Don’t worry about the unrecognized field error; we’ll use the tidyjson library to deal with that. Note that you have to run through the experiment at least once our the query won’t have any data to return. :)"
   ]
  },
  {
   "cell_type": "code",
   "execution_count": 3,
   "id": "wanted-start",
   "metadata": {},
   "outputs": [
    {
     "name": "stderr",
     "output_type": "stream",
     "text": [
      "Warning message in postgresqlExecStatement(conn, statement, ...):\n",
      "“RS-DBI driver warning: (unrecognized PostgreSQL field type jsonb (id:3802) in column 10)”\n"
     ]
    }
   ],
   "source": [
    "rawdata <- dbGetQuery(db, \"SELECT * FROM experiments.runs\")"
   ]
  },
  {
   "cell_type": "markdown",
   "id": "buried-study",
   "metadata": {},
   "source": [
    "## turn json data into table"
   ]
  },
  {
   "cell_type": "code",
   "execution_count": 5,
   "id": "royal-declaration",
   "metadata": {},
   "outputs": [
    {
     "data": {
      "text/html": [
       "<table class=\"dataframe\">\n",
       "<caption>A tibble: 6 × 25</caption>\n",
       "<thead>\n",
       "\t<tr><th scope=col>id</th><th scope=col>daterun</th><th scope=col>randomid</th><th scope=col>participant</th><th scope=col>project</th><th scope=col>experiment</th><th scope=col>condition</th><th scope=col>researcher</th><th scope=col>sourcedb</th><th scope=col>location</th><th scope=col>⋯</th><th scope=col>trial_type</th><th scope=col>trial_index</th><th scope=col>time_elapsed</th><th scope=col>internal_node_id</th><th scope=col>rt</th><th scope=col>response</th><th scope=col>stimulus</th><th scope=col>task</th><th scope=col>correct</th><th scope=col>correct_response</th></tr>\n",
       "\t<tr><th scope=col>&lt;dbl&gt;</th><th scope=col>&lt;dttm&gt;</th><th scope=col>&lt;chr&gt;</th><th scope=col>&lt;chr&gt;</th><th scope=col>&lt;chr&gt;</th><th scope=col>&lt;chr&gt;</th><th scope=col>&lt;chr&gt;</th><th scope=col>&lt;chr&gt;</th><th scope=col>&lt;chr&gt;</th><th scope=col>&lt;chr&gt;</th><th scope=col>⋯</th><th scope=col>&lt;chr&gt;</th><th scope=col>&lt;dbl&gt;</th><th scope=col>&lt;dbl&gt;</th><th scope=col>&lt;chr&gt;</th><th scope=col>&lt;dbl&gt;</th><th scope=col>&lt;chr&gt;</th><th scope=col>&lt;chr&gt;</th><th scope=col>&lt;chr&gt;</th><th scope=col>&lt;lgl&gt;</th><th scope=col>&lt;chr&gt;</th></tr>\n",
       "</thead>\n",
       "<tbody>\n",
       "\t<tr><td>1</td><td>2021-04-09 21:39:13</td><td>_uzb8dq9ma3o</td><td>test</td><td>Your Project Name</td><td>experiment1</td><td>condition1</td><td>dorothy</td><td>prolific</td><td>oz</td><td>⋯</td><td>preload                </td><td>0</td><td>  93</td><td>0.0-0.0    </td><td>     NA</td><td>NA</td><td>NA                                                                                                                                                                                                                                                                                                                                                                                                                                                                                                                                                                                                                                                                                                              </td><td>NA      </td><td>   NA</td><td>NA</td></tr>\n",
       "\t<tr><td>1</td><td>2021-04-09 21:39:13</td><td>_uzb8dq9ma3o</td><td>test</td><td>Your Project Name</td><td>experiment1</td><td>condition1</td><td>dorothy</td><td>prolific</td><td>oz</td><td>⋯</td><td>html-keyboard-response </td><td>1</td><td>1075</td><td>0.0-1.0    </td><td>979.335</td><td>f </td><td>Welcome to the experiment. Press any key to begin.                                                                                                                                                                                                                                                                                                                                                                                                                                                                                                                                                                                                                                                              </td><td>NA      </td><td>   NA</td><td>NA</td></tr>\n",
       "\t<tr><td>1</td><td>2021-04-09 21:39:13</td><td>_uzb8dq9ma3o</td><td>test</td><td>Your Project Name</td><td>experiment1</td><td>condition1</td><td>dorothy</td><td>prolific</td><td>oz</td><td>⋯</td><td>html-keyboard-response </td><td>2</td><td>1690</td><td><span style=white-space:pre-wrap>0.0-2.0    </span></td><td>612.940</td><td>f </td><td><span style=white-space:pre-wrap>\n",
       "        &lt;p&gt;In this experiment, a circle will appear in the center \n",
       "        of the screen.&lt;/p&gt;&lt;p&gt;If the circle is &lt;strong&gt;blue&lt;/strong&gt;, \n",
       "        press the letter F on the keyboard as fast as you can.&lt;/p&gt;\n",
       "        &lt;p&gt;If the circle is &lt;strong&gt;orange&lt;/strong&gt;, press the letter J \n",
       "        as fast as you can.&lt;/p&gt;\n",
       "        &lt;div style='width: 700px;'&gt;\n",
       "        &lt;div style='float: left;'&gt;&lt;img src='img/blue.png'&gt;&lt;/img&gt;\n",
       "        &lt;p class='small'&gt;&lt;strong&gt;Press the F key&lt;/strong&gt;&lt;/p&gt;&lt;/div&gt;\n",
       "        &lt;div class='float: right;'&gt;&lt;img src='img/orange.png'&gt;&lt;/img&gt;\n",
       "        &lt;p class='small'&gt;&lt;strong&gt;Press the J key&lt;/strong&gt;&lt;/p&gt;&lt;/div&gt;\n",
       "        &lt;/div&gt;\n",
       "        &lt;p&gt;Press any key to begin.&lt;/p&gt;\n",
       "      </span></td><td><span style=white-space:pre-wrap>NA      </span></td><td><span style=white-space:pre-wrap>   NA</span></td><td>NA</td></tr>\n",
       "\t<tr><td>1</td><td>2021-04-09 21:39:13</td><td>_uzb8dq9ma3o</td><td>test</td><td>Your Project Name</td><td>experiment1</td><td>condition1</td><td>dorothy</td><td>prolific</td><td>oz</td><td>⋯</td><td>html-keyboard-response </td><td>3</td><td>4948</td><td>0.0-3.0-0.0</td><td><span style=white-space:pre-wrap>     NA</span></td><td>NA</td><td><span style=white-space:pre-wrap>&lt;div style=\"font-size:60px;\"&gt;+&lt;/div&gt;                                                                                                                                                                                                                                                                                                                                                                                                                                                                                                                                                                                                                                                                            </span></td><td>fixation</td><td><span style=white-space:pre-wrap>   NA</span></td><td>NA</td></tr>\n",
       "\t<tr><td>1</td><td>2021-04-09 21:39:13</td><td>_uzb8dq9ma3o</td><td>test</td><td>Your Project Name</td><td>experiment1</td><td>condition1</td><td>dorothy</td><td>prolific</td><td>oz</td><td>⋯</td><td>image-keyboard-response</td><td>4</td><td>5393</td><td>0.0-3.0-1.0</td><td>431.155</td><td>f </td><td>img/orange.png                                                                                                                                                                                                                                                                                                                                                                                                                                                                                                                                                                                                                                                                                                  </td><td>response</td><td>FALSE</td><td>j </td></tr>\n",
       "\t<tr><td>1</td><td>2021-04-09 21:39:13</td><td>_uzb8dq9ma3o</td><td>test</td><td>Your Project Name</td><td>experiment1</td><td>condition1</td><td>dorothy</td><td>prolific</td><td>oz</td><td>⋯</td><td>html-keyboard-response </td><td>5</td><td>5645</td><td>0.0-3.0-0.1</td><td><span style=white-space:pre-wrap>     NA</span></td><td>NA</td><td><span style=white-space:pre-wrap>&lt;div style=\"font-size:60px;\"&gt;+&lt;/div&gt;                                                                                                                                                                                                                                                                                                                                                                                                                                                                                                                                                                                                                                                                            </span></td><td>fixation</td><td><span style=white-space:pre-wrap>   NA</span></td><td>NA</td></tr>\n",
       "</tbody>\n",
       "</table>\n"
      ],
      "text/latex": [
       "A tibble: 6 × 25\n",
       "\\begin{tabular}{lllllllllllllllllllll}\n",
       " id & daterun & randomid & participant & project & experiment & condition & researcher & sourcedb & location & ⋯ & trial\\_type & trial\\_index & time\\_elapsed & internal\\_node\\_id & rt & response & stimulus & task & correct & correct\\_response\\\\\n",
       " <dbl> & <dttm> & <chr> & <chr> & <chr> & <chr> & <chr> & <chr> & <chr> & <chr> & ⋯ & <chr> & <dbl> & <dbl> & <chr> & <dbl> & <chr> & <chr> & <chr> & <lgl> & <chr>\\\\\n",
       "\\hline\n",
       "\t 1 & 2021-04-09 21:39:13 & \\_uzb8dq9ma3o & test & Your Project Name & experiment1 & condition1 & dorothy & prolific & oz & ⋯ & preload                 & 0 &   93 & 0.0-0.0     &      NA & NA & NA                                                                                                                                                                                                                                                                                                                                                                                                                                                                                                                                                                                                                                                                                                               & NA       &    NA & NA\\\\\n",
       "\t 1 & 2021-04-09 21:39:13 & \\_uzb8dq9ma3o & test & Your Project Name & experiment1 & condition1 & dorothy & prolific & oz & ⋯ & html-keyboard-response  & 1 & 1075 & 0.0-1.0     & 979.335 & f  & Welcome to the experiment. Press any key to begin.                                                                                                                                                                                                                                                                                                                                                                                                                                                                                                                                                                                                                                                               & NA       &    NA & NA\\\\\n",
       "\t 1 & 2021-04-09 21:39:13 & \\_uzb8dq9ma3o & test & Your Project Name & experiment1 & condition1 & dorothy & prolific & oz & ⋯ & html-keyboard-response  & 2 & 1690 & 0.0-2.0     & 612.940 & f  & \n",
       "        <p>In this experiment, a circle will appear in the center \n",
       "        of the screen.</p><p>If the circle is <strong>blue</strong>, \n",
       "        press the letter F on the keyboard as fast as you can.</p>\n",
       "        <p>If the circle is <strong>orange</strong>, press the letter J \n",
       "        as fast as you can.</p>\n",
       "        <div style='width: 700px;'>\n",
       "        <div style='float: left;'><img src='img/blue.png'></img>\n",
       "        <p class='small'><strong>Press the F key</strong></p></div>\n",
       "        <div class='float: right;'><img src='img/orange.png'></img>\n",
       "        <p class='small'><strong>Press the J key</strong></p></div>\n",
       "        </div>\n",
       "        <p>Press any key to begin.</p>\n",
       "       & NA       &    NA & NA\\\\\n",
       "\t 1 & 2021-04-09 21:39:13 & \\_uzb8dq9ma3o & test & Your Project Name & experiment1 & condition1 & dorothy & prolific & oz & ⋯ & html-keyboard-response  & 3 & 4948 & 0.0-3.0-0.0 &      NA & NA & <div style=\"font-size:60px;\">+</div>                                                                                                                                                                                                                                                                                                                                                                                                                                                                                                                                                                                                                                                                             & fixation &    NA & NA\\\\\n",
       "\t 1 & 2021-04-09 21:39:13 & \\_uzb8dq9ma3o & test & Your Project Name & experiment1 & condition1 & dorothy & prolific & oz & ⋯ & image-keyboard-response & 4 & 5393 & 0.0-3.0-1.0 & 431.155 & f  & img/orange.png                                                                                                                                                                                                                                                                                                                                                                                                                                                                                                                                                                                                                                                                                                   & response & FALSE & j \\\\\n",
       "\t 1 & 2021-04-09 21:39:13 & \\_uzb8dq9ma3o & test & Your Project Name & experiment1 & condition1 & dorothy & prolific & oz & ⋯ & html-keyboard-response  & 5 & 5645 & 0.0-3.0-0.1 &      NA & NA & <div style=\"font-size:60px;\">+</div>                                                                                                                                                                                                                                                                                                                                                                                                                                                                                                                                                                                                                                                                             & fixation &    NA & NA\\\\\n",
       "\\end{tabular}\n"
      ],
      "text/markdown": [
       "\n",
       "A tibble: 6 × 25\n",
       "\n",
       "| id &lt;dbl&gt; | daterun &lt;dttm&gt; | randomid &lt;chr&gt; | participant &lt;chr&gt; | project &lt;chr&gt; | experiment &lt;chr&gt; | condition &lt;chr&gt; | researcher &lt;chr&gt; | sourcedb &lt;chr&gt; | location &lt;chr&gt; | ⋯ ⋯ | trial_type &lt;chr&gt; | trial_index &lt;dbl&gt; | time_elapsed &lt;dbl&gt; | internal_node_id &lt;chr&gt; | rt &lt;dbl&gt; | response &lt;chr&gt; | stimulus &lt;chr&gt; | task &lt;chr&gt; | correct &lt;lgl&gt; | correct_response &lt;chr&gt; |\n",
       "|---|---|---|---|---|---|---|---|---|---|---|---|---|---|---|---|---|---|---|---|---|\n",
       "| 1 | 2021-04-09 21:39:13 | _uzb8dq9ma3o | test | Your Project Name | experiment1 | condition1 | dorothy | prolific | oz | ⋯ | preload                 | 0 |   93 | 0.0-0.0     |      NA | NA | NA                                                                                                                                                                                                                                                                                                                                                                                                                                                                                                                                                                                                                                                                                                               | NA       |    NA | NA |\n",
       "| 1 | 2021-04-09 21:39:13 | _uzb8dq9ma3o | test | Your Project Name | experiment1 | condition1 | dorothy | prolific | oz | ⋯ | html-keyboard-response  | 1 | 1075 | 0.0-1.0     | 979.335 | f  | Welcome to the experiment. Press any key to begin.                                                                                                                                                                                                                                                                                                                                                                                                                                                                                                                                                                                                                                                               | NA       |    NA | NA |\n",
       "| 1 | 2021-04-09 21:39:13 | _uzb8dq9ma3o | test | Your Project Name | experiment1 | condition1 | dorothy | prolific | oz | ⋯ | html-keyboard-response  | 2 | 1690 | 0.0-2.0     | 612.940 | f  | \n",
       "        &lt;p&gt;In this experiment, a circle will appear in the center \n",
       "        of the screen.&lt;/p&gt;&lt;p&gt;If the circle is &lt;strong&gt;blue&lt;/strong&gt;, \n",
       "        press the letter F on the keyboard as fast as you can.&lt;/p&gt;\n",
       "        &lt;p&gt;If the circle is &lt;strong&gt;orange&lt;/strong&gt;, press the letter J \n",
       "        as fast as you can.&lt;/p&gt;\n",
       "        &lt;div style='width: 700px;'&gt;\n",
       "        &lt;div style='float: left;'&gt;&lt;img src='img/blue.png'&gt;&lt;/img&gt;\n",
       "        &lt;p class='small'&gt;&lt;strong&gt;Press the F key&lt;/strong&gt;&lt;/p&gt;&lt;/div&gt;\n",
       "        &lt;div class='float: right;'&gt;&lt;img src='img/orange.png'&gt;&lt;/img&gt;\n",
       "        &lt;p class='small'&gt;&lt;strong&gt;Press the J key&lt;/strong&gt;&lt;/p&gt;&lt;/div&gt;\n",
       "        &lt;/div&gt;\n",
       "        &lt;p&gt;Press any key to begin.&lt;/p&gt;\n",
       "       | NA       |    NA | NA |\n",
       "| 1 | 2021-04-09 21:39:13 | _uzb8dq9ma3o | test | Your Project Name | experiment1 | condition1 | dorothy | prolific | oz | ⋯ | html-keyboard-response  | 3 | 4948 | 0.0-3.0-0.0 |      NA | NA | &lt;div style=\"font-size:60px;\"&gt;+&lt;/div&gt;                                                                                                                                                                                                                                                                                                                                                                                                                                                                                                                                                                                                                                                                             | fixation |    NA | NA |\n",
       "| 1 | 2021-04-09 21:39:13 | _uzb8dq9ma3o | test | Your Project Name | experiment1 | condition1 | dorothy | prolific | oz | ⋯ | image-keyboard-response | 4 | 5393 | 0.0-3.0-1.0 | 431.155 | f  | img/orange.png                                                                                                                                                                                                                                                                                                                                                                                                                                                                                                                                                                                                                                                                                                   | response | FALSE | j  |\n",
       "| 1 | 2021-04-09 21:39:13 | _uzb8dq9ma3o | test | Your Project Name | experiment1 | condition1 | dorothy | prolific | oz | ⋯ | html-keyboard-response  | 5 | 5645 | 0.0-3.0-0.1 |      NA | NA | &lt;div style=\"font-size:60px;\"&gt;+&lt;/div&gt;                                                                                                                                                                                                                                                                                                                                                                                                                                                                                                                                                                                                                                                                             | fixation |    NA | NA |\n",
       "\n"
      ],
      "text/plain": [
       "  id daterun             randomid     participant project           experiment \n",
       "1 1  2021-04-09 21:39:13 _uzb8dq9ma3o test        Your Project Name experiment1\n",
       "2 1  2021-04-09 21:39:13 _uzb8dq9ma3o test        Your Project Name experiment1\n",
       "3 1  2021-04-09 21:39:13 _uzb8dq9ma3o test        Your Project Name experiment1\n",
       "4 1  2021-04-09 21:39:13 _uzb8dq9ma3o test        Your Project Name experiment1\n",
       "5 1  2021-04-09 21:39:13 _uzb8dq9ma3o test        Your Project Name experiment1\n",
       "6 1  2021-04-09 21:39:13 _uzb8dq9ma3o test        Your Project Name experiment1\n",
       "  condition  researcher sourcedb location ⋯ trial_type              trial_index\n",
       "1 condition1 dorothy    prolific oz       ⋯ preload                 0          \n",
       "2 condition1 dorothy    prolific oz       ⋯ html-keyboard-response  1          \n",
       "3 condition1 dorothy    prolific oz       ⋯ html-keyboard-response  2          \n",
       "4 condition1 dorothy    prolific oz       ⋯ html-keyboard-response  3          \n",
       "5 condition1 dorothy    prolific oz       ⋯ image-keyboard-response 4          \n",
       "6 condition1 dorothy    prolific oz       ⋯ html-keyboard-response  5          \n",
       "  time_elapsed internal_node_id rt      response\n",
       "1   93         0.0-0.0               NA NA      \n",
       "2 1075         0.0-1.0          979.335 f       \n",
       "3 1690         0.0-2.0          612.940 f       \n",
       "4 4948         0.0-3.0-0.0           NA NA      \n",
       "5 5393         0.0-3.0-1.0      431.155 f       \n",
       "6 5645         0.0-3.0-0.1           NA NA      \n",
       "  stimulus                                                                                                                                                                                                                                                                                                                                                                                                                                                                                                                                                                                                                                                                                                        \n",
       "1 NA                                                                                                                                                                                                                                                                                                                                                                                                                                                                                                                                                                                                                                                                                                              \n",
       "2 Welcome to the experiment. Press any key to begin.                                                                                                                                                                                                                                                                                                                                                                                                                                                                                                                                                                                                                                                              \n",
       "3 \\n        <p>In this experiment, a circle will appear in the center \\n        of the screen.</p><p>If the circle is <strong>blue</strong>, \\n        press the letter F on the keyboard as fast as you can.</p>\\n        <p>If the circle is <strong>orange</strong>, press the letter J \\n        as fast as you can.</p>\\n        <div style='width: 700px;'>\\n        <div style='float: left;'><img src='img/blue.png'></img>\\n        <p class='small'><strong>Press the F key</strong></p></div>\\n        <div class='float: right;'><img src='img/orange.png'></img>\\n        <p class='small'><strong>Press the J key</strong></p></div>\\n        </div>\\n        <p>Press any key to begin.</p>\\n      \n",
       "4 <div style=\"font-size:60px;\">+</div>                                                                                                                                                                                                                                                                                                                                                                                                                                                                                                                                                                                                                                                                            \n",
       "5 img/orange.png                                                                                                                                                                                                                                                                                                                                                                                                                                                                                                                                                                                                                                                                                                  \n",
       "6 <div style=\"font-size:60px;\">+</div>                                                                                                                                                                                                                                                                                                                                                                                                                                                                                                                                                                                                                                                                            \n",
       "  task     correct correct_response\n",
       "1 NA          NA   NA              \n",
       "2 NA          NA   NA              \n",
       "3 NA          NA   NA              \n",
       "4 fixation    NA   NA              \n",
       "5 response FALSE   j               \n",
       "6 fixation    NA   NA              "
      ]
     },
     "metadata": {},
     "output_type": "display_data"
    }
   ],
   "source": [
    "data <- rawdata %>%\n",
    "    as.tbl_json(json.column=\"data\") %>% gather_array %>% spread_all %>%\n",
    "    as_tibble() \n",
    "\n",
    "\n",
    "head(data)"
   ]
  },
  {
   "cell_type": "code",
   "execution_count": null,
   "id": "settled-stroke",
   "metadata": {},
   "outputs": [],
   "source": []
  }
 ],
 "metadata": {
  "kernelspec": {
   "display_name": "R",
   "language": "R",
   "name": "ir"
  },
  "language_info": {
   "codemirror_mode": "r",
   "file_extension": ".r",
   "mimetype": "text/x-r-source",
   "name": "R",
   "pygments_lexer": "r",
   "version": "4.0.3"
  }
 },
 "nbformat": 4,
 "nbformat_minor": 5
}
